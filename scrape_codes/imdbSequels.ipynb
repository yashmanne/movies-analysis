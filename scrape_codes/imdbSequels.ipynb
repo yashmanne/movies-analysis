{
    "metadata": {
        "kernelspec": {
            "name": "python3",
            "display_name": "Python 3 (ipykernel)",
            "language": "python"
        },
        "language_info": {
            "name": "python",
            "version": "3.11.1",
            "mimetype": "text/x-python",
            "codemirror_mode": {
                "name": "ipython",
                "version": 3
            },
            "pygments_lexer": "ipython3",
            "nbconvert_exporter": "python",
            "file_extension": ".py"
        },
        "anaconda-cloud": {},
        "vscode": {
            "interpreter": {
                "hash": "31f2aee4e71d21fbe5cf8b01ff0e069b9275f58929596ceb00d14d90e3e16cd6"
            }
        },
        "extensions": {
            "azuredatastudio": {
                "version": 1,
                "views": []
            }
        }
    },
    "nbformat_minor": 2,
    "nbformat": 4,
    "cells": [
        {
            "cell_type": "markdown",
            "source": [
                "# Scraper for IMDB Sequel Data\n",
                "\n",
                "## https://www.imdb.com/list/ls003495084/"
            ],
            "metadata": {
                "extensions": {
                    "azuredatastudio": {
                        "views": []
                    }
                },
                "azdata_cell_guid": "83b83c73-ff0a-413f-8b12-f45206ed30e9"
            },
            "attachments": {}
        },
        {
            "cell_type": "code",
            "source": [
                "import numpy as np\r\n",
                "import requests\r\n",
                "import time\r\n",
                "\r\n",
                "from bs4 import BeautifulSoup as bs\r\n",
                "import pandas as pd"
            ],
            "metadata": {
                "extensions": {
                    "azuredatastudio": {
                        "views": []
                    }
                },
                "azdata_cell_guid": "9f50a7d8-c6c4-4c12-9b1e-ecdefde09b95"
            },
            "outputs": [],
            "execution_count": 70
        },
        {
            "cell_type": "code",
            "source": [
                "url = \"https://www.imdb.com/list/ls003495084/\"\r\n",
                "urlPage = requests.get(url)\r\n",
                "soup = bs(urlPage.content, 'html.parser')"
            ],
            "metadata": {
                "extensions": {
                    "azuredatastudio": {
                        "views": []
                    }
                },
                "azdata_cell_guid": "a19c4c83-7823-42ab-94b2-a82fc909e43e",
                "tags": []
            },
            "outputs": [],
            "execution_count": 71
        },
        {
            "cell_type": "code",
            "source": [
                "#soup\r\n",
                "movies = soup.find_all(\"div\", attrs={\"class\": \"lister-item-image ribbonize\"}, limit=3000)\r\n",
                "len(movies)"
            ],
            "metadata": {
                "azdata_cell_guid": "320fef69-be20-4401-b040-72f8e2eded44"
            },
            "outputs": [
                {
                    "data": {
                        "text/plain": "100"
                    },
                    "metadata": {},
                    "execution_count": 72,
                    "output_type": "execute_result"
                }
            ],
            "execution_count": 72
        },
        {
            "cell_type": "code",
            "source": [
                "movie = movies[1]\r\n",
                "listOfMovieNames = []\r\n",
                "for movie in movies:\r\n",
                "    listOfMovieNames.append(movie.find(\"img\")['alt'])\r\n",
                "len(listOfMovieNames)\r\n",
                ""
            ],
            "metadata": {
                "azdata_cell_guid": "c7f96793-71f2-407a-9e09-9ba4c5c936fc"
            },
            "outputs": [
                {
                    "data": {
                        "text/plain": "100"
                    },
                    "metadata": {},
                    "execution_count": 73,
                    "output_type": "execute_result"
                }
            ],
            "execution_count": 73
        },
        {
            "cell_type": "code",
            "source": [
                "movie = movies[1]\r\n",
                "listOfMovieNames = []\r\n",
                "for movie in movies:\r\n",
                "    listOfMovieNames.append(movie.find(\"a\")['href'])\r\n",
                "len(listOfMovieNames)\r\n",
                "print(\"https://www.imdb.com\" + listOfMovieNames[1])"
            ],
            "metadata": {
                "azdata_cell_guid": "5828b735-0060-497d-b886-73b82bd5e797"
            },
            "outputs": [
                {
                    "name": "stdout",
                    "text": "https://www.imdb.com/title/tt0316654/\n",
                    "output_type": "stream"
                }
            ],
            "execution_count": 104
        },
        {
            "cell_type": "code",
            "source": [
                "#inline-block ratings-metascore\r\n",
                "#metascoreNums = soup.find_all(\"div\", attrs={\"class\": \"inline-block ratings-metascore\"})\r\n",
                "#metascoreNums = soup.find_all(\"span\", attrs={\"class\": \"metascore favorable\"})\r\n",
                "movie_descs = soup.find_all(\"p\", attrs={\"class\": \"\"})\r\n",
                "print(movie_descs[1].get_text().strip())\r\n",
                ""
            ],
            "metadata": {
                "azdata_cell_guid": "68e753ec-9d67-4801-b173-79ac351e5f6e",
                "tags": []
            },
            "outputs": [
                {
                    "name": "stdout",
                    "text": "Peter Parker is beset with troubles in his failing personal life as he battles a brilliant scientist named Doctor Otto Octavius.\n",
                    "output_type": "stream"
                }
            ],
            "execution_count": 92
        },
        {
            "cell_type": "code",
            "source": [
                "# lister-item-year text-muted unbold\r\n",
                "listedYears = soup.find_all(\"span\", attrs={\"class\": \"lister-item-year text-muted unbold\"})\r\n",
                "print(listedYears[1].get_text().strip()[1:5])\r\n",
                "len(listedYears)"
            ],
            "metadata": {
                "azdata_cell_guid": "dc57a011-0131-4890-beb8-76b56e232030"
            },
            "outputs": [
                {
                    "name": "stdout",
                    "text": "2004\n",
                    "output_type": "stream"
                },
                {
                    "data": {
                        "text/plain": "100"
                    },
                    "metadata": {},
                    "execution_count": 98,
                    "output_type": "execute_result"
                }
            ],
            "execution_count": 98
        },
        {
            "cell_type": "code",
            "source": [
                "def extractDataFromIMDBList(url):\r\n",
                "    print(\"Getting data from: \")\r\n",
                "    print(url)\r\n",
                "    urlPage = requests.get(url)\r\n",
                "    soup = bs(urlPage.content, 'html.parser')\r\n",
                "    movies = soup.find_all(\"div\", attrs={\"class\": \"lister-item-image ribbonize\"}, limit=3000)\r\n",
                "    listOfMovieURLs = []\r\n",
                "    movie = movies[1]\r\n",
                "    listOfMovieNames = []\r\n",
                "\r\n",
                "    for movie in movies:\r\n",
                "        listOfMovieURLs.append(\"https://www.imdb.com\" + movie.find(\"a\")['href'])\r\n",
                "\r\n",
                "    listOfMovieNames = []\r\n",
                "    for movie in movies:\r\n",
                "        listOfMovieNames.append(movie.find(\"img\")['alt'])\r\n",
                "\r\n",
                "    movie_descs = soup.find_all(\"p\", attrs={\"class\": \"\"})\r\n",
                "    listOFDescs = []\r\n",
                "    for desc in movie_descs:\r\n",
                "        listOFDescs.append(desc.get_text().strip())\r\n",
                "    #print(movie_descs[1].get_text())\r\n",
                "\r\n",
                "    listedYears = soup.find_all(\"span\", attrs={\"class\": \"lister-item-year text-muted unbold\"})\r\n",
                "    years = []\r\n",
                "    for listedYear in listedYears:\r\n",
                "        years.append(listedYear.get_text().strip()[1:5])\r\n",
                "    \r\n",
                "    #moviedata = pd.DataFrame({\"name\": listOfMovieNames, \"desc\": listOFDescs, \"year\": years, \"imdb_url\": listOfMovieURLs})\r\n",
                "\r\n",
                "    print(\"The length of the years array is:\")\r\n",
                "    print(len(years))\r\n",
                "    moviedata = pd.DataFrame({\"name\": listOfMovieNames, \"desc\": listOFDescs, \"imdb_url\": listOfMovieURLs})\r\n",
                "    \r\n",
                "    return moviedata\r\n",
                "\r\n",
                "\r\n",
                "#firstList = extractDataFromIMDBList(\"https://www.imdb.com/list/ls003495084/?sort=list_order,asc&st_dt=&mode=detail&page=2\")\r\n",
                "#last one = https://www.imdb.com/list/ls003495084/?sort=list_order,asc&st_dt=&mode=detail&page=12\r\n",
                "\r\n",
                "listOfURLs = ['https://www.imdb.com/list/ls003495084/']\r\n",
                "#should be 2-12, i truncated it cuz it's slow\r\n",
                "for i in range(2, 13):\r\n",
                "    listOfURLs.append(\"https://www.imdb.com/list/ls003495084/?sort=list_order,asc&st_dt=&mode=detail&page=\" + str(i))\r\n",
                "\r\n",
                "\r\n",
                "movieSequels = pd.DataFrame()\r\n",
                "for movieURL in listOfURLs:\r\n",
                "    movieSequels = pd.concat([movieSequels, extractDataFromIMDBList(movieURL)])\r\n",
                "\r\n",
                "\r\n",
                "movieSequels.to_csv('imdbData.csv', index = False)"
            ],
            "metadata": {
                "azdata_cell_guid": "046b88cf-26f9-442c-85fd-5fe07a5727e6"
            },
            "outputs": [
                {
                    "name": "stdout",
                    "text": "Getting data from: \nhttps://www.imdb.com/list/ls003495084/\n",
                    "output_type": "stream"
                },
                {
                    "name": "stdout",
                    "text": "The length of the years array is:\n100\nGetting data from: \nhttps://www.imdb.com/list/ls003495084/?sort=list_order,asc&st_dt=&mode=detail&page=2\n",
                    "output_type": "stream"
                },
                {
                    "name": "stdout",
                    "text": "The length of the years array is:\n100\nGetting data from: \nhttps://www.imdb.com/list/ls003495084/?sort=list_order,asc&st_dt=&mode=detail&page=3\n",
                    "output_type": "stream"
                },
                {
                    "name": "stdout",
                    "text": "The length of the years array is:\n100\nGetting data from: \nhttps://www.imdb.com/list/ls003495084/?sort=list_order,asc&st_dt=&mode=detail&page=4\n",
                    "output_type": "stream"
                },
                {
                    "name": "stdout",
                    "text": "The length of the years array is:\n100\nGetting data from: \nhttps://www.imdb.com/list/ls003495084/?sort=list_order,asc&st_dt=&mode=detail&page=5\n",
                    "output_type": "stream"
                },
                {
                    "name": "stdout",
                    "text": "The length of the years array is:\n100\nGetting data from: \nhttps://www.imdb.com/list/ls003495084/?sort=list_order,asc&st_dt=&mode=detail&page=6\n",
                    "output_type": "stream"
                },
                {
                    "name": "stdout",
                    "text": "The length of the years array is:\n116\nGetting data from: \nhttps://www.imdb.com/list/ls003495084/?sort=list_order,asc&st_dt=&mode=detail&page=7\n",
                    "output_type": "stream"
                },
                {
                    "name": "stdout",
                    "text": "The length of the years array is:\n101\nGetting data from: \nhttps://www.imdb.com/list/ls003495084/?sort=list_order,asc&st_dt=&mode=detail&page=8\n",
                    "output_type": "stream"
                },
                {
                    "name": "stdout",
                    "text": "The length of the years array is:\n100\nGetting data from: \nhttps://www.imdb.com/list/ls003495084/?sort=list_order,asc&st_dt=&mode=detail&page=9\n",
                    "output_type": "stream"
                },
                {
                    "name": "stdout",
                    "text": "The length of the years array is:\n100\nGetting data from: \nhttps://www.imdb.com/list/ls003495084/?sort=list_order,asc&st_dt=&mode=detail&page=10\n",
                    "output_type": "stream"
                },
                {
                    "name": "stdout",
                    "text": "The length of the years array is:\n100\nGetting data from: \nhttps://www.imdb.com/list/ls003495084/?sort=list_order,asc&st_dt=&mode=detail&page=11\n",
                    "output_type": "stream"
                },
                {
                    "name": "stdout",
                    "text": "The length of the years array is:\n100\nGetting data from: \nhttps://www.imdb.com/list/ls003495084/?sort=list_order,asc&st_dt=&mode=detail&page=12\n",
                    "output_type": "stream"
                },
                {
                    "name": "stdout",
                    "text": "The length of the years array is:\n72\n",
                    "output_type": "stream"
                }
            ],
            "execution_count": 112
        },
        {
            "cell_type": "code",
            "source": [
                "movieSequels.to_csv('imdbData.csv', index = False)"
            ],
            "metadata": {
                "azdata_cell_guid": "56ec49db-fc6d-4eb7-b85b-4710b4df7ee8"
            },
            "outputs": [],
            "execution_count": 111
        }
    ]
}