{
 "cells": [
  {
   "cell_type": "markdown",
   "metadata": {
    "azdata_cell_guid": "83b83c73-ff0a-413f-8b12-f45206ed30e9",
    "extensions": {
     "azuredatastudio": {
      "views": []
     }
    }
   },
   "source": [
    "# Scraper for IMDB Sequel Data\n",
    "\n",
    "## https://www.imdb.com/list/ls003495084/"
   ]
  },
  {
   "cell_type": "code",
   "execution_count": 1,
   "metadata": {
    "azdata_cell_guid": "9f50a7d8-c6c4-4c12-9b1e-ecdefde09b95",
    "extensions": {
     "azuredatastudio": {
      "views": []
     }
    }
   },
   "outputs": [],
   "source": [
    "import numpy as np\n",
    "import requests\n",
    "import time\n",
    "\n",
    "from bs4 import BeautifulSoup as bs\n",
    "import pandas as pd"
   ]
  },
  {
   "cell_type": "code",
   "execution_count": 2,
   "metadata": {
    "azdata_cell_guid": "a19c4c83-7823-42ab-94b2-a82fc909e43e",
    "extensions": {
     "azuredatastudio": {
      "views": []
     }
    },
    "tags": []
   },
   "outputs": [],
   "source": [
    "url = \"https://www.imdb.com/list/ls003495084/\"\n",
    "urlPage = requests.get(url)\n",
    "soup = bs(urlPage.content, 'html.parser')"
   ]
  },
  {
   "cell_type": "code",
   "execution_count": 3,
   "metadata": {
    "azdata_cell_guid": "320fef69-be20-4401-b040-72f8e2eded44"
   },
   "outputs": [
    {
     "data": {
      "text/plain": [
       "100"
      ]
     },
     "execution_count": 3,
     "metadata": {},
     "output_type": "execute_result"
    }
   ],
   "source": [
    "#soup\n",
    "movies = soup.find_all(\"div\", attrs={\"class\": \"lister-item-image ribbonize\"}, limit=3000)\n",
    "len(movies)"
   ]
  },
  {
   "cell_type": "code",
   "execution_count": 4,
   "metadata": {
    "azdata_cell_guid": "c7f96793-71f2-407a-9e09-9ba4c5c936fc"
   },
   "outputs": [
    {
     "data": {
      "text/plain": [
       "100"
      ]
     },
     "execution_count": 4,
     "metadata": {},
     "output_type": "execute_result"
    }
   ],
   "source": [
    "movie = movies[1]\n",
    "listOfMovieNames = []\n",
    "for movie in movies:\n",
    "    listOfMovieNames.append(movie.find(\"img\")['alt'])\n",
    "len(listOfMovieNames)\n"
   ]
  },
  {
   "cell_type": "code",
   "execution_count": 5,
   "metadata": {
    "azdata_cell_guid": "5828b735-0060-497d-b886-73b82bd5e797"
   },
   "outputs": [
    {
     "name": "stdout",
     "output_type": "stream",
     "text": [
      "https://www.imdb.com/title/tt0316654/\n"
     ]
    }
   ],
   "source": [
    "movie = movies[1]\n",
    "listOfMovieNames = []\n",
    "for movie in movies:\n",
    "    listOfMovieNames.append(movie.find(\"a\")['href'])\n",
    "len(listOfMovieNames)\n",
    "print(\"https://www.imdb.com\" + listOfMovieNames[1])"
   ]
  },
  {
   "cell_type": "code",
   "execution_count": 6,
   "metadata": {
    "azdata_cell_guid": "68e753ec-9d67-4801-b173-79ac351e5f6e",
    "tags": []
   },
   "outputs": [
    {
     "name": "stdout",
     "output_type": "stream",
     "text": [
      "Peter Parker is beset with troubles in his failing personal life as he battles a brilliant scientist named Doctor Otto Octavius.\n"
     ]
    }
   ],
   "source": [
    "#inline-block ratings-metascore\n",
    "#metascoreNums = soup.find_all(\"div\", attrs={\"class\": \"inline-block ratings-metascore\"})\n",
    "#metascoreNums = soup.find_all(\"span\", attrs={\"class\": \"metascore favorable\"})\n",
    "movie_descs = soup.find_all(\"p\", attrs={\"class\": \"\"})\n",
    "print(movie_descs[1].get_text().strip())\n"
   ]
  },
  {
   "cell_type": "code",
   "execution_count": 7,
   "metadata": {
    "azdata_cell_guid": "dc57a011-0131-4890-beb8-76b56e232030"
   },
   "outputs": [
    {
     "name": "stdout",
     "output_type": "stream",
     "text": [
      "2004\n"
     ]
    },
    {
     "data": {
      "text/plain": [
       "100"
      ]
     },
     "execution_count": 7,
     "metadata": {},
     "output_type": "execute_result"
    }
   ],
   "source": [
    "# lister-item-year text-muted unbold\n",
    "listedYears = soup.find_all(\"span\", attrs={\"class\": \"lister-item-year text-muted unbold\"})\n",
    "print(listedYears[1].get_text().strip()[1:5])\n",
    "len(listedYears)"
   ]
  },
  {
   "cell_type": "code",
   "execution_count": 8,
   "metadata": {
    "azdata_cell_guid": "046b88cf-26f9-442c-85fd-5fe07a5727e6"
   },
   "outputs": [
    {
     "name": "stdout",
     "output_type": "stream",
     "text": [
      "Getting data from: \n",
      "https://www.imdb.com/list/ls003495084/\n",
      "The length of the years array is:\n",
      "100\n",
      "Getting data from: \n",
      "https://www.imdb.com/list/ls003495084/?sort=list_order,asc&st_dt=&mode=detail&page=2\n",
      "The length of the years array is:\n",
      "100\n",
      "Getting data from: \n",
      "https://www.imdb.com/list/ls003495084/?sort=list_order,asc&st_dt=&mode=detail&page=3\n",
      "The length of the years array is:\n",
      "100\n",
      "Getting data from: \n",
      "https://www.imdb.com/list/ls003495084/?sort=list_order,asc&st_dt=&mode=detail&page=4\n",
      "The length of the years array is:\n",
      "100\n",
      "Getting data from: \n",
      "https://www.imdb.com/list/ls003495084/?sort=list_order,asc&st_dt=&mode=detail&page=5\n",
      "The length of the years array is:\n",
      "100\n",
      "Getting data from: \n",
      "https://www.imdb.com/list/ls003495084/?sort=list_order,asc&st_dt=&mode=detail&page=6\n",
      "The length of the years array is:\n",
      "116\n",
      "Getting data from: \n",
      "https://www.imdb.com/list/ls003495084/?sort=list_order,asc&st_dt=&mode=detail&page=7\n",
      "The length of the years array is:\n",
      "101\n",
      "Getting data from: \n",
      "https://www.imdb.com/list/ls003495084/?sort=list_order,asc&st_dt=&mode=detail&page=8\n",
      "The length of the years array is:\n",
      "100\n",
      "Getting data from: \n",
      "https://www.imdb.com/list/ls003495084/?sort=list_order,asc&st_dt=&mode=detail&page=9\n",
      "The length of the years array is:\n",
      "100\n",
      "Getting data from: \n",
      "https://www.imdb.com/list/ls003495084/?sort=list_order,asc&st_dt=&mode=detail&page=10\n",
      "The length of the years array is:\n",
      "100\n",
      "Getting data from: \n",
      "https://www.imdb.com/list/ls003495084/?sort=list_order,asc&st_dt=&mode=detail&page=11\n",
      "The length of the years array is:\n",
      "100\n",
      "Getting data from: \n",
      "https://www.imdb.com/list/ls003495084/?sort=list_order,asc&st_dt=&mode=detail&page=12\n",
      "The length of the years array is:\n",
      "77\n"
     ]
    }
   ],
   "source": [
    "def extractDataFromIMDBList(url):\n",
    "    print(\"Getting data from: \")\n",
    "    print(url)\n",
    "    urlPage = requests.get(url)\n",
    "    soup = bs(urlPage.content, 'html.parser')\n",
    "    movies = soup.find_all(\"div\", attrs={\"class\": \"lister-item-image ribbonize\"}, limit=3000)\n",
    "    listOfMovieURLs = []\n",
    "    movie = movies[1]\n",
    "    listOfMovieNames = []\n",
    "\n",
    "    for movie in movies:\n",
    "        listOfMovieURLs.append(\"https://www.imdb.com\" + movie.find(\"a\")['href'])\n",
    "\n",
    "    listOfMovieNames = []\n",
    "    for movie in movies:\n",
    "        listOfMovieNames.append(movie.find(\"img\")['alt'])\n",
    "\n",
    "    movie_descs = soup.find_all(\"p\", attrs={\"class\": \"\"})\n",
    "    listOFDescs = []\n",
    "    for desc in movie_descs:\n",
    "        listOFDescs.append(desc.get_text().strip())\n",
    "    #print(movie_descs[1].get_text())\n",
    "\n",
    "    listedYears = soup.find_all(\"span\", attrs={\"class\": \"lister-item-year text-muted unbold\"})\n",
    "    years = []\n",
    "    for listedYear in listedYears:\n",
    "        years.append(listedYear.get_text().strip()[1:5])\n",
    "    \n",
    "    #moviedata = pd.DataFrame({\"name\": listOfMovieNames, \"desc\": listOFDescs, \"year\": years, \"imdb_url\": listOfMovieURLs})\n",
    "\n",
    "    print(\"The length of the years array is:\")\n",
    "    print(len(years))\n",
    "    moviedata = pd.DataFrame({\"name\": listOfMovieNames, \"desc\": listOFDescs, \"imdb_url\": listOfMovieURLs})\n",
    "    \n",
    "    return moviedata\n",
    "\n",
    "\n",
    "#firstList = extractDataFromIMDBList(\"https://www.imdb.com/list/ls003495084/?sort=list_order,asc&st_dt=&mode=detail&page=2\")\n",
    "#last one = https://www.imdb.com/list/ls003495084/?sort=list_order,asc&st_dt=&mode=detail&page=12\n",
    "\n",
    "listOfURLs = ['https://www.imdb.com/list/ls003495084/']\n",
    "#should be 2-12, i truncated it cuz it's slow\n",
    "for i in range(2, 13):\n",
    "    listOfURLs.append(\"https://www.imdb.com/list/ls003495084/?sort=list_order,asc&st_dt=&mode=detail&page=\" + str(i))\n",
    "\n",
    "\n",
    "movieSequels = pd.DataFrame()\n",
    "for movieURL in listOfURLs:\n",
    "    movieSequels = pd.concat([movieSequels, extractDataFromIMDBList(movieURL)])\n",
    "\n",
    "\n",
    "movieSequels.to_csv('imdbData.csv', index = False)"
   ]
  },
  {
   "cell_type": "code",
   "execution_count": 10,
   "metadata": {},
   "outputs": [
    {
     "data": {
      "text/html": [
       "<div>\n",
       "<style scoped>\n",
       "    .dataframe tbody tr th:only-of-type {\n",
       "        vertical-align: middle;\n",
       "    }\n",
       "\n",
       "    .dataframe tbody tr th {\n",
       "        vertical-align: top;\n",
       "    }\n",
       "\n",
       "    .dataframe thead th {\n",
       "        text-align: right;\n",
       "    }\n",
       "</style>\n",
       "<table border=\"1\" class=\"dataframe\">\n",
       "  <thead>\n",
       "    <tr style=\"text-align: right;\">\n",
       "      <th></th>\n",
       "      <th>name</th>\n",
       "      <th>desc</th>\n",
       "      <th>imdb_url</th>\n",
       "    </tr>\n",
       "  </thead>\n",
       "  <tbody>\n",
       "    <tr>\n",
       "      <th>0</th>\n",
       "      <td>Spider-Man</td>\n",
       "      <td>After being bitten by a genetically-modified s...</td>\n",
       "      <td>https://www.imdb.com/title/tt0145487/</td>\n",
       "    </tr>\n",
       "    <tr>\n",
       "      <th>1</th>\n",
       "      <td>Spider-Man 2</td>\n",
       "      <td>Peter Parker is beset with troubles in his fai...</td>\n",
       "      <td>https://www.imdb.com/title/tt0316654/</td>\n",
       "    </tr>\n",
       "    <tr>\n",
       "      <th>2</th>\n",
       "      <td>Spider-Man 3</td>\n",
       "      <td>A strange black entity from another world bond...</td>\n",
       "      <td>https://www.imdb.com/title/tt0413300/</td>\n",
       "    </tr>\n",
       "    <tr>\n",
       "      <th>3</th>\n",
       "      <td>The Matrix</td>\n",
       "      <td>When a beautiful stranger leads computer hacke...</td>\n",
       "      <td>https://www.imdb.com/title/tt0133093/</td>\n",
       "    </tr>\n",
       "    <tr>\n",
       "      <th>4</th>\n",
       "      <td>The Matrix Reloaded</td>\n",
       "      <td>Freedom fighters Neo, Trinity and Morpheus con...</td>\n",
       "      <td>https://www.imdb.com/title/tt0234215/</td>\n",
       "    </tr>\n",
       "    <tr>\n",
       "      <th>...</th>\n",
       "      <td>...</td>\n",
       "      <td>...</td>\n",
       "      <td>...</td>\n",
       "    </tr>\n",
       "    <tr>\n",
       "      <th>72</th>\n",
       "      <td>The Abominable Dr. Phibes</td>\n",
       "      <td>Doctor, scientist, organist, and biblical scho...</td>\n",
       "      <td>https://www.imdb.com/title/tt0066740/</td>\n",
       "    </tr>\n",
       "    <tr>\n",
       "      <th>73</th>\n",
       "      <td>Dr. Phibes Rises Again</td>\n",
       "      <td>The vengeful doctor rises again, seeking the S...</td>\n",
       "      <td>https://www.imdb.com/title/tt0068503/</td>\n",
       "    </tr>\n",
       "    <tr>\n",
       "      <th>74</th>\n",
       "      <td>The Fly</td>\n",
       "      <td>A scientist has a horrific accident when he tr...</td>\n",
       "      <td>https://www.imdb.com/title/tt0051622/</td>\n",
       "    </tr>\n",
       "    <tr>\n",
       "      <th>75</th>\n",
       "      <td>Return of the Fly</td>\n",
       "      <td>Philippe Delambre, the now-adult son of \"The F...</td>\n",
       "      <td>https://www.imdb.com/title/tt0053219/</td>\n",
       "    </tr>\n",
       "    <tr>\n",
       "      <th>76</th>\n",
       "      <td>Curse of the Fly</td>\n",
       "      <td>Motorist Martin Delambre attempts to keep evid...</td>\n",
       "      <td>https://www.imdb.com/title/tt0059076/</td>\n",
       "    </tr>\n",
       "  </tbody>\n",
       "</table>\n",
       "<p>1177 rows × 3 columns</p>\n",
       "</div>"
      ],
      "text/plain": [
       "                         name  \\\n",
       "0                  Spider-Man   \n",
       "1                Spider-Man 2   \n",
       "2                Spider-Man 3   \n",
       "3                  The Matrix   \n",
       "4         The Matrix Reloaded   \n",
       "..                        ...   \n",
       "72  The Abominable Dr. Phibes   \n",
       "73     Dr. Phibes Rises Again   \n",
       "74                    The Fly   \n",
       "75          Return of the Fly   \n",
       "76           Curse of the Fly   \n",
       "\n",
       "                                                 desc  \\\n",
       "0   After being bitten by a genetically-modified s...   \n",
       "1   Peter Parker is beset with troubles in his fai...   \n",
       "2   A strange black entity from another world bond...   \n",
       "3   When a beautiful stranger leads computer hacke...   \n",
       "4   Freedom fighters Neo, Trinity and Morpheus con...   \n",
       "..                                                ...   \n",
       "72  Doctor, scientist, organist, and biblical scho...   \n",
       "73  The vengeful doctor rises again, seeking the S...   \n",
       "74  A scientist has a horrific accident when he tr...   \n",
       "75  Philippe Delambre, the now-adult son of \"The F...   \n",
       "76  Motorist Martin Delambre attempts to keep evid...   \n",
       "\n",
       "                                 imdb_url  \n",
       "0   https://www.imdb.com/title/tt0145487/  \n",
       "1   https://www.imdb.com/title/tt0316654/  \n",
       "2   https://www.imdb.com/title/tt0413300/  \n",
       "3   https://www.imdb.com/title/tt0133093/  \n",
       "4   https://www.imdb.com/title/tt0234215/  \n",
       "..                                    ...  \n",
       "72  https://www.imdb.com/title/tt0066740/  \n",
       "73  https://www.imdb.com/title/tt0068503/  \n",
       "74  https://www.imdb.com/title/tt0051622/  \n",
       "75  https://www.imdb.com/title/tt0053219/  \n",
       "76  https://www.imdb.com/title/tt0059076/  \n",
       "\n",
       "[1177 rows x 3 columns]"
      ]
     },
     "execution_count": 10,
     "metadata": {},
     "output_type": "execute_result"
    }
   ],
   "source": [
    "movieSequels"
   ]
  },
  {
   "cell_type": "code",
   "execution_count": 11,
   "metadata": {
    "azdata_cell_guid": "56ec49db-fc6d-4eb7-b85b-4710b4df7ee8"
   },
   "outputs": [],
   "source": [
    "movieSequels.to_csv('imdbData.csv', index = False)"
   ]
  },
  {
   "cell_type": "code",
   "execution_count": null,
   "metadata": {},
   "outputs": [],
   "source": [
    "pre"
   ]
  }
 ],
 "metadata": {
  "anaconda-cloud": {},
  "extensions": {
   "azuredatastudio": {
    "version": 1,
    "views": []
   }
  },
  "kernelspec": {
   "display_name": "Python 3 (ipykernel)",
   "language": "python",
   "name": "python3"
  },
  "language_info": {
   "codemirror_mode": {
    "name": "ipython",
    "version": 3
   },
   "file_extension": ".py",
   "mimetype": "text/x-python",
   "name": "python",
   "nbconvert_exporter": "python",
   "pygments_lexer": "ipython3",
   "version": "3.9.10"
  },
  "vscode": {
   "interpreter": {
    "hash": "31f2aee4e71d21fbe5cf8b01ff0e069b9275f58929596ceb00d14d90e3e16cd6"
   }
  }
 },
 "nbformat": 4,
 "nbformat_minor": 2
}
