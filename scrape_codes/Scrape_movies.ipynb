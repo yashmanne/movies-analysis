# This file contains the web scraping code from the Numbers webpage

{
 "cells": [
  {
   "cell_type": "code",
   "execution_count": 58,
   "metadata": {},
   "outputs": [],
   "source": [
    "from selenium import webdriver\n",
    "from bs4 import BeautifulSoup\n",
    "import pandas as pd\n",
    "import numpy as np\n",
    "from selenium.webdriver.chrome.service import Service\n",
    "from webdriver_manager.chrome import ChromeDriverManager\n",
    "import sys"
   ]
  },
  {
   "cell_type": "code",
   "execution_count": 19,
   "metadata": {},
   "outputs": [
    {
     "name": "stderr",
     "output_type": "stream",
     "text": [
      "[WDM] - Downloading: 100%|████████████████████████████████████████████████████████| 6.79M/6.79M [00:00<00:00, 7.13MB/s]\n"
     ]
    }
   ],
   "source": [
    "driver = webdriver.Chrome(service=Service(ChromeDriverManager().install()))"
   ]
  },
  {
   "cell_type": "code",
   "execution_count": 20,
   "metadata": {},
   "outputs": [],
   "source": [
    "page = driver.get(\"https://www.the-numbers.com/market/\")"
   ]
  },
  {
   "cell_type": "code",
   "execution_count": 78,
   "metadata": {},
   "outputs": [],
   "source": [
    "content = driver.page_source\n",
    "soup = BeautifulSoup(content)"
   ]
  },
  {
   "cell_type": "code",
   "execution_count": 70,
   "metadata": {},
   "outputs": [],
   "source": [
    "table = soup.find(\"table\")\n",
    "years = []\n",
    "tickets_sold = []\n",
    "total_box_office = []\n",
    "total_infl_adj_bo = []\n",
    "avg_ticket_price = []\n",
    "\n",
    "for row in table.tbody.find_all('tr'):    \n",
    "    # Find all data for each column\n",
    "    columns = row.find_all('td')\n",
    "    \n",
    "    if(columns != []):\n",
    "        year = columns[0].find('a').getText()\n",
    "        tickets = columns[1].getText()\n",
    "        total_box_o = columns[2].getText()\n",
    "        total_infl_adj = columns[3].getText()\n",
    "        avg = columns[4].getText()\n",
    "        \n",
    "        years.append(year)\n",
    "        tickets_sold.append(int(tickets.replace(',', '')))\n",
    "        total_box_office.append(int(total_box_o[1:].replace(',', '')))\n",
    "        total_infl_adj_bo.append(int(total_infl_adj[1:].replace(',', '')))\n",
    "        avg_ticket_price.append(float(avg[1:]))\n",
    "        \n",
    "di = {\"Year\": years, \"Tickets sold\": tickets_sold, \"Total Box Office\": total_box_office, \"Total Inflation Adjusted Box Office\": total_infl_adj_bo,\n",
    "     \"Average Ticket Price\": avg_ticket_price}\n",
    "        \n",
    "df = pd.DataFrame(di)\n",
    "df.to_csv(\"Annual_ticket_sales.csv\")"
   ]
  },
  {
   "cell_type": "code",
   "execution_count": 77,
   "metadata": {},
   "outputs": [],
   "source": [
    "tables = soup.find_all('table')\n",
    "table1 = tables[1]\n",
    "\n",
    "years_1 = []\n",
    "warner_bros = []\n",
    "walt_disney = []\n",
    "century_fox20 = []\n",
    "paramount = []\n",
    "sony = []\n",
    "universal = []\n",
    "total_m6 = []\n",
    "total_other = []\n",
    "\n",
    "for row in table1.tbody.find_all('tr'):    \n",
    "    # Find all data for each column\n",
    "    columns = row.find_all('td')\n",
    "    \n",
    "    if(columns != []):\n",
    "        year = columns[0].find('a').getText()\n",
    "        wb = columns[1].getText()\n",
    "        wd = columns[2].getText()\n",
    "        cf_20 = columns[3].getText()\n",
    "        pp = columns[4].getText()\n",
    "        sony_p = columns[5].getText()\n",
    "        univ = columns[6].getText()\n",
    "        t_m6 = columns[7].getText()\n",
    "        t_other = columns[8].getText()\n",
    "        \n",
    "        years_1.append(year)\n",
    "        warner_bros.append(int(wb))\n",
    "        walt_disney.append(int(wd))\n",
    "        century_fox20.append(int(cf_20))\n",
    "        paramount.append(int(pp))\n",
    "        sony.append(int(sony_p))\n",
    "        universal.append(int(univ))\n",
    "        total_m6.append(int(t_m6))\n",
    "        total_other.append(int(t_other))\n",
    "        \n",
    "di_1 = {\"Year\": years, \"Warner Bros\": warner_bros, \"Walt Disney\": walt_disney, \"20th Century Fox\": century_fox20,\n",
    "     \"Paramount Pictures\": paramount, \"Sony Pictures\": sony, \"Universal\": universal, \"Total Major 6\": total_m6, \"Total Other Studios\" : total_other}\n",
    "        \n",
    "df = pd.DataFrame(di_1)\n",
    "df.to_csv(\"Number_of_wide_releases.csv\")\n"
   ]
  },
  {
   "cell_type": "code",
   "execution_count": null,
   "metadata": {},
   "outputs": [],
   "source": []
  }
 ],
 "metadata": {
  "kernelspec": {
   "display_name": "Python 3",
   "language": "python",
   "name": "python3"
  },
  "language_info": {
   "codemirror_mode": {
    "name": "ipython",
    "version": 3
   },
   "file_extension": ".py",
   "mimetype": "text/x-python",
   "name": "python",
   "nbconvert_exporter": "python",
   "pygments_lexer": "ipython3",
   "version": "3.8.3"
  }
 },
 "nbformat": 4,
 "nbformat_minor": 4
}
